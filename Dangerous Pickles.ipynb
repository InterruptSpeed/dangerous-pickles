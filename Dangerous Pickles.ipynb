{
 "cells": [
  {
   "cell_type": "markdown",
   "metadata": {},
   "source": [
    "# jupyter notebook in support of [Dangerous Pickles](https://intoli.com/blog/dangerous-pickles/) article by Evan Sangaline."
   ]
  },
  {
   "cell_type": "markdown",
   "metadata": {},
   "source": [
    "## simple pickle example:"
   ]
  },
  {
   "cell_type": "code",
   "execution_count": null,
   "metadata": {},
   "outputs": [],
   "source": [
    "import pickle\n",
    "\n",
    "# start with any instance of a Python type\n",
    "original = { 'a': 0, 'b': [1, 2, 3] }\n",
    "\n",
    "# turn it into a string\n",
    "pickled = pickle.dumps(original)\n",
    "\n",
    "# turn it back into an identical object\n",
    "identical = pickle.loads(pickled)\n",
    "\n",
    "# is the original object identical to the unpickled object\n",
    "original == identical"
   ]
  },
  {
   "cell_type": "markdown",
   "metadata": {},
   "source": [
    "## weak pickle bomb"
   ]
  },
  {
   "cell_type": "code",
   "execution_count": null,
   "metadata": {},
   "outputs": [],
   "source": [
    "class Bomb:\n",
    "    def __init__(self, name):\n",
    "        self.name = name\n",
    "\n",
    "    def __getstate__(self):\n",
    "        return self.name\n",
    "\n",
    "    def __setstate__(self, state):\n",
    "        self.name = state\n",
    "        print(f'Bang! From, {self.name}.')\n",
    "\n",
    "bomb = Bomb('Evan')"
   ]
  },
  {
   "cell_type": "code",
   "execution_count": null,
   "metadata": {},
   "outputs": [],
   "source": [
    "import pickle\n",
    "\n",
    "pickled_bomb = pickle.dumps(bomb, protocol=0)\n",
    "unpickled_bomb = pickle.loads(pickled_bomb)"
   ]
  },
  {
   "cell_type": "markdown",
   "metadata": {},
   "source": [
    "## inside the [optimized] pickle bomb"
   ]
  },
  {
   "cell_type": "code",
   "execution_count": null,
   "metadata": {},
   "outputs": [],
   "source": [
    "import pickletools\n",
    "\n",
    "pickled_bomb = pickletools.optimize(pickled_bomb)\n",
    "pickletools.dis(pickled_bomb)"
   ]
  },
  {
   "cell_type": "markdown",
   "metadata": {},
   "source": [
    "## Pickle Machine (PM) emulation"
   ]
  },
  {
   "cell_type": "code",
   "execution_count": null,
   "metadata": {},
   "outputs": [],
   "source": [
    "# the PM's longterm memory/storage\n",
    "memo = {}\n",
    "# the PM's stack, which most opcodes interact with\n",
    "stack = []"
   ]
  },
  {
   "cell_type": "markdown",
   "metadata": {},
   "source": [
    "### translate disassembled pickle to python (instruction by instruction)"
   ]
  },
  {
   "cell_type": "code",
   "execution_count": null,
   "metadata": {},
   "outputs": [],
   "source": [
    "# Push a global object (module.attr) on the stack.\n",
    "#  0: c    GLOBAL     'copy_reg _reconstructor'\n",
    "from copyreg import _reconstructor\n",
    "stack.append(_reconstructor)\n",
    "\n",
    "# Push markobject onto the stack.\n",
    "# 25: (    MARK\n",
    "stack.append('MARK')\n",
    "\n",
    "# Push a global object (module.attr) on the stack.\n",
    "# 26: c        GLOBAL     '__main__ Bomb'\n",
    "stack.append(Bomb)\n",
    "\n",
    "# Push a global object (module.attr) on the stack.\n",
    "# 41: c        GLOBAL     '__builtin__ object'\n",
    "stack.append(object)\n",
    "\n",
    "# Push None on the stack.\n",
    "# 61: N        NONE\n",
    "stack.append(None)\n",
    "\n",
    "# Build a tuple out of the topmost stack slice, after markobject.\n",
    "# 62: t        TUPLE      (MARK at 28)\n",
    "last_mark_index = len(stack) - 1 - stack[::-1].index('MARK')\n",
    "mark_tuple = tuple(stack[last_mark_index + 1:])\n",
    "stack = stack[:last_mark_index] + [mark_tuple]\n",
    "\n",
    "# Push an object built from a callable and an argument tuple.\n",
    "# 63: R    REDUCE\n",
    "args = stack.pop()\n",
    "callable = stack.pop()\n",
    "stack.append(callable(*args))\n",
    "\n",
    "# Push a Python Unicode string object.\n",
    "# 64: V    UNICODE    'Evan'\n",
    "stack.append(u'Evan')\n",
    "\n",
    "# Finish building an object, via __setstate__ or dict update.\n",
    "# 70: b    BUILD\n",
    "arg = stack.pop()\n",
    "stack[-1].__setstate__(arg)\n",
    "\n",
    "# Stop the unpickling machine.\n",
    "# 71: .    STOP\n",
    "unpickled_bomb = stack[-1]"
   ]
  },
  {
   "cell_type": "markdown",
   "metadata": {},
   "source": [
    "### simplified rework"
   ]
  },
  {
   "cell_type": "code",
   "execution_count": null,
   "metadata": {},
   "outputs": [],
   "source": [
    "# Instruction 1, where `_reconstructor` was imported\n",
    "from copyreg import _reconstructor\n",
    "\n",
    "# Instruction 7, where `_reconstructor` was called\n",
    "unpickled_bomb = _reconstructor(cls=Bomb, base=object, state=None)\n",
    "# Instruction 9, where `__setstate__` was called\n",
    "unpickled_bomb.__setstate__('Evan')"
   ]
  },
  {
   "cell_type": "markdown",
   "metadata": {},
   "source": [
    "### and simpler still"
   ]
  },
  {
   "cell_type": "code",
   "execution_count": null,
   "metadata": {},
   "outputs": [],
   "source": [
    "unpickled_bomb = object.__new__(Bomb)\n",
    "unpickled_bomb.__setstate__('Evan')"
   ]
  },
  {
   "cell_type": "markdown",
   "metadata": {},
   "source": [
    "## actual pickle bomb"
   ]
  },
  {
   "cell_type": "markdown",
   "metadata": {},
   "source": [
    "### our bomb in assembly:"
   ]
  },
  {
   "cell_type": "raw",
   "metadata": {},
   "source": [
    "# add a function to the stack to execute arbitrary python\n",
    "GLOBAL     '__builtin__ eval'\n",
    "# mark the start of our args tuple\n",
    "MARK\n",
    "    # add the Python code that we want to execute to the stack\n",
    "    UNICODE    'print(\"Bang! From, Evan.\")'\n",
    "    # wrap that code into a tuple so it can be parsed by REDUCE\n",
    "    TUPLE\n",
    "# call `eval()` with our Python code as an argument\n",
    "REDUCE\n",
    "# STOP is required to be valid PM code\n",
    "STOP"
   ]
  },
  {
   "cell_type": "markdown",
   "metadata": {},
   "source": [
    "### our bomb assembly in pickle machine code:"
   ]
  },
  {
   "cell_type": "raw",
   "metadata": {},
   "source": [
    "c__builtin__\n",
    "eval\n",
    "(Vprint(\"Bang! From, Evan.\")\n",
    "tR."
   ]
  },
  {
   "cell_type": "markdown",
   "metadata": {},
   "source": [
    "### our pickle machine code in pickle"
   ]
  },
  {
   "cell_type": "code",
   "execution_count": null,
   "metadata": {},
   "outputs": [],
   "source": [
    "# Run me at home!\n",
    "# I'm safe, I promise!\n",
    "pickled_bomb = b'c__builtin__\\neval\\n(Vprint(\"Bang! From, Evan.\")\\ntR.'\n",
    "pickle.loads(pickled_bomb)"
   ]
  },
  {
   "cell_type": "markdown",
   "metadata": {},
   "source": [
    "### eval() will take anything..."
   ]
  },
  {
   "cell_type": "code",
   "execution_count": null,
   "metadata": {},
   "outputs": [],
   "source": []
  }
 ],
 "metadata": {
  "kernelspec": {
   "display_name": "Python 3",
   "language": "python",
   "name": "python3"
  },
  "language_info": {
   "codemirror_mode": {
    "name": "ipython",
    "version": 3
   },
   "file_extension": ".py",
   "mimetype": "text/x-python",
   "name": "python",
   "nbconvert_exporter": "python",
   "pygments_lexer": "ipython3",
   "version": "3.6.3"
  }
 },
 "nbformat": 4,
 "nbformat_minor": 2
}
